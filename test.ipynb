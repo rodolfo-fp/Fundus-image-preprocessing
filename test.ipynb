{
 "cells": [
  {
   "cell_type": "code",
   "execution_count": 26,
   "metadata": {},
   "outputs": [],
   "source": [
    "from fundus_preprocessing import my_preprocess\n",
    "import cv2 # type: ignore\n",
    "import os"
   ]
  },
  {
   "cell_type": "code",
   "execution_count": 28,
   "metadata": {},
   "outputs": [],
   "source": [
    "def get_image_paths(directory):\n",
    "    image_paths = []\n",
    "    accepted_formats = ('.png', '.jpg', '.jpeg', '.bmp', '.gif')\n",
    "\n",
    "    for file_name in os.listdir(directory):\n",
    "        file_path = os.path.join(directory, file_name)\n",
    "        \n",
    "        if os.path.isfile(file_path) and file_name.lower().endswith(accepted_formats):\n",
    "            image_paths.append(file_path)\n",
    "\n",
    "    return image_paths"
   ]
  },
  {
   "cell_type": "code",
   "execution_count": 29,
   "metadata": {},
   "outputs": [],
   "source": [
    "def get_file_name_from_path(file_path):\n",
    "    return os.path.basename(file_path)"
   ]
  },
  {
   "cell_type": "markdown",
   "metadata": {},
   "source": [
    "O pré-processamento de imagens de fundo envolve quatro passos principais: remover áreas marginais sem significado, detectar o círculo da retina, cortar a imagem com base nesse círculo, e adicionar uma margem preta antes da ampliação da imagem para prevenir a exclusão de áreas significativas."
   ]
  },
  {
   "cell_type": "code",
   "execution_count": 30,
   "metadata": {},
   "outputs": [],
   "source": [
    "image_directory = './tmp'\n",
    "image_paths = get_image_paths(image_directory)\n",
    "\n",
    "for path in image_paths:\n",
    "    file_name = get_file_name_from_path(path)\n",
    "    img_processed = my_preprocess(path, crop_size=384)\n",
    "    cv2.imwrite(f\"./data/{file_name}\", img_processed)\n"
   ]
  }
 ],
 "metadata": {
  "kernelspec": {
   "display_name": "Fundus-image-preprocessing-6qM2ZDw-",
   "language": "python",
   "name": "python3"
  },
  "language_info": {
   "codemirror_mode": {
    "name": "ipython",
    "version": 3
   },
   "file_extension": ".py",
   "mimetype": "text/x-python",
   "name": "python",
   "nbconvert_exporter": "python",
   "pygments_lexer": "ipython3",
   "version": "3.12.5"
  }
 },
 "nbformat": 4,
 "nbformat_minor": 2
}
